{
 "cells": [
  {
   "attachments": {},
   "cell_type": "markdown",
   "metadata": {
    "id": "0SgXP35IcMoL"
   },
   "source": [
    "---\n",
    "# <h1 style=\"text-align: center;\">NeuroFlinkCEP: Neurosymbolic Complex Event Recognition Optimized across IoT Platforms</h1>\n",
    "\n",
    "<img class=\"t0\" width=\"100\" src=\"images/logo.svg\" alt=\"Logo\">\n",
    "\n",
    "---\n"
   ]
  },
  {
   "attachments": {},
   "cell_type": "markdown",
   "metadata": {},
   "source": [
    "# Introduction"
   ]
  },
  {
   "attachments": {},
   "cell_type": "markdown",
   "metadata": {},
   "source": []
  },
  {
   "attachments": {},
   "cell_type": "markdown",
   "metadata": {},
   "source": [
    "# Acknowledgements"
   ]
  },
  {
   "attachments": {},
   "cell_type": "markdown",
   "metadata": {},
   "source": [
    "<style type=\"text/css\">\n",
    ".tg  {border-collapse:collapse;border-spacing:0;}\n",
    ".tg td{border-color:black;border-style:solid;border-width:0px;font-family:Arial, sans-serif;font-size:14px;\n",
    "  overflow:hidden;padding:10px 5px;word-break:normal;}\n",
    ".tg th{border-color:black;border-style:solid;border-width:1px;font-family:Arial, sans-serif;font-size:14px;\n",
    "  font-weight:normal;overflow:hidden;padding:10px 5px;word-break:normal;}\n",
    ".tg .tg-0pky{border-color:inherit;text-align:center;vertical-align:top}\n",
    ".tg {\n",
    "  margin-left: auto;\n",
    "  margin-right: auto;\n",
    "}\n",
    "</style>\n",
    "<table class=\"tg\">\n",
    "<tbody>\n",
    "  <tr>\n",
    "    <td class=\"tg-0pky\">\n",
    "    <div class=\"large-2 large-push-2 columns\" style=\"text-align:center;\">\n",
    "        <a href=\"#\">\n",
    "            <img class=\"t0\" width=\"100\" src=\"images\\eu_logo_s.png\" alt=\"Paper\">\n",
    "        </a>\n",
    "    </div>\n",
    "    <td class=\"tg-0pky\">\n",
    "    <div class=\"large-2 large-push-2 columns\" style=\"text-align:center;\">\n",
    "        <a href=\"https://evenflow-project.eu/\">\n",
    "            <img class=\"t0\" width=\"250\" src=\"images\\evenflow_logo.png\" >\n",
    "            <div style=\"text-align:center; margin: 0 0 0 0; font-size: 0.8em;\">EVENFLOW</div>\n",
    "        </a>   \n",
    "    </div>\n",
    "    </td>\n",
    "  </tr>\n",
    "</tbody>\n",
    "</table>"
   ]
  },
  {
   "cell_type": "markdown",
   "metadata": {},
   "source": []
  }
 ],
 "metadata": {
  "colab": {
   "provenance": []
  },
  "kernelspec": {
   "display_name": "Python 3",
   "name": "python3"
  },
  "language_info": {
   "codemirror_mode": {
    "name": "ipython",
    "version": 3
   },
   "file_extension": ".py",
   "mimetype": "text/x-python",
   "name": "python",
   "nbconvert_exporter": "python",
   "pygments_lexer": "ipython3",
   "version": "3.11.3"
  }
 },
 "nbformat": 4,
 "nbformat_minor": 0
}
