{
 "cells": [
  {
   "attachments": {},
   "cell_type": "markdown",
   "metadata": {
    "id": "0SgXP35IcMoL"
   },
   "source": [
    "---\n",
    "# <h1 style=\"text-align: center;\"><img class=\"t0\" width=\"100\" src=\"images/logo.svg\" alt=\"Logo\"> NeuroFlinkCEP: Neurosymbolic Complex Event Recognition Optimized across IoT Platforms</h1>\n",
    "\n",
    "---\n"
   ]
  },
  {
   "attachments": {},
   "cell_type": "markdown",
   "metadata": {},
   "source": [
    "# Introduction"
   ]
  },
  {
   "attachments": {},
   "cell_type": "markdown",
   "metadata": {},
   "source": [
    "<p>We demonstrate NeuroFlinkCEP, the first framework that integrates neural and symbolic Complex Event Recognition (CER) over a state-of-the-art Big Data platform, also optimizing neurosymbolic CER upon operating over IoT settings NeuroFlinkCEP receives expressed patterns as extended regular expressions and automatically transforms them to FlinkCEP jobs per device. To enable detection of simple events involved in CER patterns, NeuroFlinkCEP can\n",
    "integrate any neural model in FlinkCEP jobs. To optimally assign operator execution in-network, we incorporate and extend a state of-the-art IoT optimizer.</p>\n",
    "\n",
    "<p2>NeuroFlinkCEP is integrated into RapidMiner Studio,a no-code data science platform, so users can visually design end-to-end streaming workflows with simple drag and drop operators. With NeuroFlinkCEP and IoT optimizer available directly in RapidMiner Studio, creating, testing, and deploying complex event-recognition pipelines optimaly in multi devices is more intuitive.</p2>"
   ]
  },
  {
   "cell_type": "markdown",
   "metadata": {},
   "source": [
    "# Architecture"
   ]
  },
  {
   "cell_type": "markdown",
   "metadata": {},
   "source": [
    "<p><b>NeuroFlinkCEP</b> has two key architectural components:<p>\n",
    "<ul>\n",
    "  <li>\n",
    "        RegEx2-NeuroFlinkCEP operator. Transforms a regular-expression pattern description into the corresponding FlinkCEP code\n",
    "  </li>\n",
    "  <li>\n",
    "        SynapSEflow operator. Processes raw input data through a loaded, trained neural model to produce predicted values as simple events\n",
    "  </li>\n",
    "  <li>\n",
    "        DAG*4CER Optimizer. Accepts the logical streaming workflow and the available IoT devices, then computes the optimal execution plan using the state-of-the-art DAG* IoT optimization algorithm\n",
    "  </li>\n",
    "</ul>  \n",
    "\n",
    "The following figure illustrates the step-by-step process for NeuroFlinkCEP’s workflow design, IoT optimization, and distributed execution.\n",
    "<div style=\"text-align: center;\">\n",
    "  <img src=\"images/architecture.png\" alt=\"NeuroFlinkCEP diagram\" width=\"900\">\n",
    "</div>\n",
    "\n",
    "\n"
   ]
  },
  {
   "cell_type": "markdown",
   "metadata": {},
   "source": [
    "# Rapid Miner Tutorial"
   ]
  },
  {
   "cell_type": "markdown",
   "metadata": {},
   "source": [
    "<div style=\"text-align: center;\">\n",
    "  <img\n",
    "    src=\"images/tutorial2.gif\"\n",
    "    alt=\"NeuroFlinkCEP animated diagram\"\n",
    "    width=\"900\"\n",
    "  />\n",
    "</div>"
   ]
  },
  {
   "attachments": {},
   "cell_type": "markdown",
   "metadata": {},
   "source": [
    "# Acknowledgements"
   ]
  },
  {
   "attachments": {},
   "cell_type": "markdown",
   "metadata": {},
   "source": [
    "<style type=\"text/css\">\n",
    ".tg  {border-collapse:collapse;border-spacing:0;}\n",
    ".tg td{border-color:black;border-style:solid;border-width:0px;font-family:Arial, sans-serif;font-size:14px;\n",
    "  overflow:hidden;padding:10px 5px;word-break:normal;}\n",
    ".tg th{border-color:black;border-style:solid;border-width:1px;font-family:Arial, sans-serif;font-size:14px;\n",
    "  font-weight:normal;overflow:hidden;padding:10px 5px;word-break:normal;}\n",
    ".tg .tg-0pky{border-color:inherit;text-align:center;vertical-align:top}\n",
    ".tg {\n",
    "  margin-left: auto;\n",
    "  margin-right: auto;\n",
    "}\n",
    "</style>\n",
    "<table class=\"tg\">\n",
    "<tbody>\n",
    "  <tr>\n",
    "    <td class=\"tg-0pky\">\n",
    "    <div class=\"large-2 large-push-2 columns\" style=\"text-align:center;\">\n",
    "        <a href=\"#\">\n",
    "            <img class=\"t0\" width=\"100\" src=\"images\\eu_logo_s.png\" alt=\"Paper\">\n",
    "        </a>\n",
    "    </div>\n",
    "    <td class=\"tg-0pky\">\n",
    "    <div class=\"large-2 large-push-2 columns\" style=\"text-align:center;\">\n",
    "        <a href=\"https://evenflow-project.eu/\">\n",
    "            <img class=\"t0\" width=\"250\" src=\"images\\evenflow_logo.png\" >\n",
    "            <div style=\"text-align:center; margin: 0 0 0 0; font-size: 0.8em;\">EVENFLOW</div>\n",
    "        </a>   \n",
    "    </div>\n",
    "    </td>\n",
    "  </tr>\n",
    "</tbody>\n",
    "</table>"
   ]
  },
  {
   "cell_type": "markdown",
   "metadata": {},
   "source": []
  }
 ],
 "metadata": {
  "colab": {
   "provenance": []
  },
  "kernelspec": {
   "display_name": "Python 3",
   "name": "python3"
  },
  "language_info": {
   "codemirror_mode": {
    "name": "ipython",
    "version": 3
   },
   "file_extension": ".py",
   "mimetype": "text/x-python",
   "name": "python",
   "nbconvert_exporter": "python",
   "pygments_lexer": "ipython3",
   "version": "3.11.3"
  }
 },
 "nbformat": 4,
 "nbformat_minor": 0
}
